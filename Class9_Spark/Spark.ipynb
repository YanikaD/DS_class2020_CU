{
  "nbformat": 4,
  "nbformat_minor": 0,
  "metadata": {
    "colab": {
      "name": "Spark_HW.ipynb",
      "provenance": []
    },
    "kernelspec": {
      "name": "python3",
      "display_name": "Python 3"
    },
    "language_info": {
      "name": "python"
    }
  },
  "cells": [
    {
      "cell_type": "markdown",
      "metadata": {
        "id": "phK3TvAqKRhP"
      },
      "source": [
        "#**Assignment9 Spark**\n",
        "###6031010021 Yanika Dontong"
      ]
    },
    {
      "cell_type": "markdown",
      "metadata": {
        "id": "aEpimHmYKkRm"
      },
      "source": [
        "### **Prepare Spark and Data**"
      ]
    },
    {
      "cell_type": "code",
      "metadata": {
        "id": "o8ZNQSZb16kF"
      },
      "source": [
        "!apt-get install openjdk-8-jdk-headless -qq > /dev/null\n",
        "!wget -q https://downloads.apache.org/spark/spark-3.1.1/spark-3.1.1-bin-hadoop2.7.tgz\n",
        "!tar xf spark-3.1.1-bin-hadoop2.7.tgz\n",
        "!pip install -q findspark"
      ],
      "execution_count": 1,
      "outputs": []
    },
    {
      "cell_type": "code",
      "metadata": {
        "id": "YOXnJ22T2nST"
      },
      "source": [
        "import os\n",
        "os.environ[\"JAVA_HOME\"] = \"/usr/lib/jvm/java-8-openjdk-amd64\"\n",
        "os.environ[\"SPARK_HOME\"] = \"/content/spark-3.1.1-bin-hadoop2.7\""
      ],
      "execution_count": 2,
      "outputs": []
    },
    {
      "cell_type": "code",
      "metadata": {
        "id": "q57eq-Q52n5Y"
      },
      "source": [
        "import findspark\n",
        "findspark.init()"
      ],
      "execution_count": 3,
      "outputs": []
    },
    {
      "cell_type": "code",
      "metadata": {
        "id": "XScDirvz2qV4"
      },
      "source": [
        "from pyspark.sql import SparkSession\n",
        "\n",
        "spark = SparkSession.builder\\\n",
        "        .master(\"local\")\\\n",
        "        .appName(\"Colab\")\\\n",
        "        .config('spark.ui.port', '4050')\\\n",
        "        .getOrCreate()\n",
        "sc = spark.sparkContext"
      ],
      "execution_count": 4,
      "outputs": []
    },
    {
      "cell_type": "code",
      "metadata": {
        "id": "rWNkEY9Y3pXB"
      },
      "source": [
        "!wget -q https://www.dropbox.com/s/43ocwui5rgjzi4r/cat_id.csv\n",
        "!wget -q https://www.dropbox.com/s/6y5turfkb99tbhn/wongnai.csv"
      ],
      "execution_count": 5,
      "outputs": []
    },
    {
      "cell_type": "code",
      "metadata": {
        "id": "lQ5XXbNy6v7f"
      },
      "source": [
        "import pandas as pd\n",
        "cat_df = pd.read_csv('cat_id.csv', names=('id', 'category'), dtype=(str, str))\n",
        "wongnai_df = spark.read.csv('wongnai.csv',header=True)"
      ],
      "execution_count": 6,
      "outputs": []
    },
    {
      "cell_type": "code",
      "metadata": {
        "id": "1qlu1Ci27R-R"
      },
      "source": [
        "cat_df.id = cat_df.id + '.0'"
      ],
      "execution_count": 7,
      "outputs": []
    },
    {
      "cell_type": "code",
      "metadata": {
        "colab": {
          "base_uri": "https://localhost:8080/"
        },
        "id": "BUBfzakx-ATc",
        "outputId": "680d8b72-f03c-413b-a12a-f0c396e5ccfe"
      },
      "source": [
        "cat_mapping = cat_df.set_index('id').to_dict()['category']\n",
        "cat_mapping"
      ],
      "execution_count": 8,
      "outputs": [
        {
          "output_type": "execute_result",
          "data": {
            "text/plain": [
              "{'10.0': 'Indian',\n",
              " '11.0': 'Buffet',\n",
              " '12.0': 'Street Food',\n",
              " '13.0': 'Fusion Food',\n",
              " '14.0': 'Coffee Shop',\n",
              " '15.0': 'Others',\n",
              " '2.0': 'Japanese',\n",
              " '3.0': 'Thai',\n",
              " '4.0': 'Chinese',\n",
              " '5.0': 'Italian',\n",
              " '6.0': 'Korean',\n",
              " '7.0': 'Vietnam',\n",
              " '8.0': 'American',\n",
              " '9.0': 'French'}"
            ]
          },
          "metadata": {
            "tags": []
          },
          "execution_count": 8
        }
      ]
    },
    {
      "cell_type": "code",
      "metadata": {
        "colab": {
          "base_uri": "https://localhost:8080/"
        },
        "id": "-qxy-eiB7WIL",
        "outputId": "d1986cca-dd24-4c50-ecb7-5eb50e2a3976"
      },
      "source": [
        "wongnai_df.show()"
      ],
      "execution_count": 9,
      "outputs": [
        {
          "output_type": "stream",
          "text": [
            "+---+---+--------------------+-----------+-------+------------------+------------------+-----------+---------+-------------------+----------------------------+---+---------------+------------------+------------------+\n",
            "|_c0| id|                name|category_id|city_id|          latitude|         longitude|price_range|avg_price|number_of_bookmarks|number_of_favorite_bookmarks|top|best_of_wongnai|number_of_checkins|    all_time_score|\n",
            "+---+---+--------------------+-----------+-------+------------------+------------------+-----------+---------+-------------------+----------------------------+---+---------------+------------------+------------------+\n",
            "|  0|  2|         บ้านกลมกิ๊ก|        3.0|    1.0|13.738961999999999|        100.550248|        2.0|    175.0|                294|                          84|  1|           null|                32| 22487.87235772358|\n",
            "|  1|  3|โรงเบียร์เยอรมันต...|       33.0|    1.0|          13.84232|        100.634959|        3.0|     null|                  2|                           2|  0|           null|                 0|              92.9|\n",
            "|  2|  4|             Kosirae|       43.0|    1.0|13.724998999999999|100.57971500000001|        3.0|    375.0|               3405|                         989|  1|           66.0|               173|239274.95038973386|\n",
            "|  3|  5|Ho Kitchen Seafoo...|       29.0|    1.0|13.687332514024973|100.55081699140169|        3.0|     null|                 94|                          24|  0|           null|                21| 13307.51275471698|\n",
            "|  4|  6| Barley Bistro & Bar|        3.0|    1.0|13.726498999999999|        100.529425|        3.0|    375.0|                249|                         146|  1|           null|                14|19606.094679802958|\n",
            "|  5|  7|             Sirocco|       53.0|    1.0|         13.721769|        100.516887|        5.0|   1500.0|               1653|                         596|  1|          113.0|                27|         207255.72|\n",
            "|  6|  8|           Steak Bkk|        8.0|    1.0|13.728473000000001|        100.657228|        2.0|     null|                  6|                           6|  0|           null|                 3|              -1.0|\n",
            "|  7|  9|Peony Teafe' & Ga...|       24.0|    1.0|         13.725478|100.53805899999999|        2.0|     null|                596|                         416|  1|           null|                25|              -1.0|\n",
            "|  8| 10|        คิวซัง ราเมน|        2.0|    1.0|13.728745000000002|        100.657078|        2.0|     null|                 32|                          27|  1|           null|                10|              -1.0|\n",
            "|  9| 14|  เจ๊โอว ข้าวต้มเป็ด|       56.0|    1.0|13.742517000000001|        100.522513|        1.0|     50.0|               3643|                         670|  1|           36.0|               316|229334.21465809466|\n",
            "| 10| 15|     Author's Lounge|       14.0|    1.0|         13.723915|100.51439599999999|        4.0|   1500.0|                105|                          32|  0|           null|                10|15779.146024096384|\n",
            "| 11| 16|         Oldies Cafe|       33.0|    1.0|13.732548000000001|100.53064599999999|        1.0|     null|                 40|                           7|  0|           null|                45|6699.3439192734595|\n",
            "| 12| 17|       Spicy Kitchen|        8.0|    1.0|13.735585999999998|        100.562015|        2.0|     null|                  1|                           1|  0|           null|                 0|              -1.0|\n",
            "| 13| 18| Another Hound Café |        5.0|    1.0|13.746245618737026|100.53452228902437|        3.0|      0.0|                279|                         155|  1|           null|                82|              -1.0|\n",
            "| 14| 19|ข้าว ยำ ตำ เตี๋ยว...|       28.0|    1.0|         13.745017|         100.53205|        2.0|     null|                 24|                          23|  0|           null|                 3|              -1.0|\n",
            "| 15| 20|เฮียตือหูฉลาม เยา...|       12.0|    1.0|13.740236999999999|100.51025200000001|        2.0|    175.0|                757|                         336|  1|           null|                64|49635.059675675686|\n",
            "| 16| 21|โกอ่างข้าวมันไก่ป...|       36.0|    1.0|13.749554000000002|        100.541917|        1.0|     50.0|               1245|                         355|  1|           null|               193|102906.29838655461|\n",
            "| 17| 22|    Tonkatsu Rakutei|        2.0|    1.0|         13.742392|100.57179000000001|        3.0|     null|                 15|                          15|  0|           null|                 0|              -1.0|\n",
            "| 18| 23|Sambuca Pizzeria ...|        5.0|    1.0|        13.7145685|        100.532424|        3.0|     null|                 17|                          15|  0|           null|                 1|              -1.0|\n",
            "| 19| 24|      ภัตตาคารจานทอง|        4.0|    1.0|         13.784069|         100.36361|        3.0|     null|                 39|                          10|  0|           null|                 4| 4084.008301886792|\n",
            "+---+---+--------------------+-----------+-------+------------------+------------------+-----------+---------+-------------------+----------------------------+---+---------------+------------------+------------------+\n",
            "only showing top 20 rows\n",
            "\n"
          ],
          "name": "stdout"
        }
      ]
    },
    {
      "cell_type": "code",
      "metadata": {
        "colab": {
          "base_uri": "https://localhost:8080/"
        },
        "id": "8oY3PGns7nTC",
        "outputId": "f18fc646-ee8c-420d-9afc-922873bc8142"
      },
      "source": [
        "wongnai_df.printSchema()"
      ],
      "execution_count": 10,
      "outputs": [
        {
          "output_type": "stream",
          "text": [
            "root\n",
            " |-- _c0: string (nullable = true)\n",
            " |-- id: string (nullable = true)\n",
            " |-- name: string (nullable = true)\n",
            " |-- category_id: string (nullable = true)\n",
            " |-- city_id: string (nullable = true)\n",
            " |-- latitude: string (nullable = true)\n",
            " |-- longitude: string (nullable = true)\n",
            " |-- price_range: string (nullable = true)\n",
            " |-- avg_price: string (nullable = true)\n",
            " |-- number_of_bookmarks: string (nullable = true)\n",
            " |-- number_of_favorite_bookmarks: string (nullable = true)\n",
            " |-- top: string (nullable = true)\n",
            " |-- best_of_wongnai: string (nullable = true)\n",
            " |-- number_of_checkins: string (nullable = true)\n",
            " |-- all_time_score: string (nullable = true)\n",
            "\n"
          ],
          "name": "stdout"
        }
      ]
    },
    {
      "cell_type": "markdown",
      "metadata": {
        "id": "wKf0kpcHA4lw"
      },
      "source": [
        "### **จงนับจำนวนร้านอาหารทั้งหมดที่มี**"
      ]
    },
    {
      "cell_type": "code",
      "metadata": {
        "colab": {
          "base_uri": "https://localhost:8080/"
        },
        "id": "SSfCw1s074z7",
        "outputId": "eb728095-e5c5-422e-867d-c7db268c6dcf"
      },
      "source": [
        "wongnai_df.count()"
      ],
      "execution_count": 11,
      "outputs": [
        {
          "output_type": "execute_result",
          "data": {
            "text/plain": [
              "283508"
            ]
          },
          "metadata": {
            "tags": []
          },
          "execution_count": 11
        }
      ]
    },
    {
      "cell_type": "markdown",
      "metadata": {
        "id": "lW0xu3ktA7I4"
      },
      "source": [
        "### **จงนับจำนวนร้านอาหารในกรุงเทพทั้งหมดที่มี**"
      ]
    },
    {
      "cell_type": "markdown",
      "metadata": {
        "id": "JBJZCAcP_r2O"
      },
      "source": [
        "after looked up for the latitude and longitude that provide, assumed that city_id of Bangkok is 1.0"
      ]
    },
    {
      "cell_type": "code",
      "metadata": {
        "colab": {
          "base_uri": "https://localhost:8080/"
        },
        "id": "m5BZpJiC9kRh",
        "outputId": "2469f646-19d2-45ff-8a74-578afe4f6863"
      },
      "source": [
        "wongnai_df.filter(wongnai_df['city_id']==1.0).count()"
      ],
      "execution_count": 12,
      "outputs": [
        {
          "output_type": "execute_result",
          "data": {
            "text/plain": [
              "90611"
            ]
          },
          "metadata": {
            "tags": []
          },
          "execution_count": 12
        }
      ]
    },
    {
      "cell_type": "markdown",
      "metadata": {
        "id": "cP8ILwU1BAtn"
      },
      "source": [
        "### **จงนับจำนวนร้านอาหารญี่ปุ่นในต่างจังหวัด (ที่ไม่ใช่กรุงเทพฯ) ทั้งหมดที่มี**"
      ]
    },
    {
      "cell_type": "code",
      "metadata": {
        "id": "s0eafBGnBLuK"
      },
      "source": [
        "from pyspark.sql.functions import udf\n",
        "from pyspark.sql.types import StringType"
      ],
      "execution_count": 13,
      "outputs": []
    },
    {
      "cell_type": "code",
      "metadata": {
        "id": "52LNSTJhBMuE"
      },
      "source": [
        "def category_mapping(cat_id): \n",
        "    if cat_id in cat_mapping:\n",
        "        return cat_mapping[cat_id]\n",
        "    else:\n",
        "        return 'Unknown'\n",
        "\n",
        "to_category = udf(category_mapping, StringType())"
      ],
      "execution_count": 14,
      "outputs": []
    },
    {
      "cell_type": "code",
      "metadata": {
        "id": "6sSYv0d5sQPl"
      },
      "source": [
        "res_outside_bkk = wongnai_df.filter(wongnai_df['city_id']!=1.0)\n",
        "res_cat = res_outside_bkk.withColumn('category', to_category(res_outside_bkk.category_id))"
      ],
      "execution_count": 18,
      "outputs": []
    },
    {
      "cell_type": "code",
      "metadata": {
        "colab": {
          "base_uri": "https://localhost:8080/"
        },
        "id": "BP-coJ389mX3",
        "outputId": "452b60d3-aa26-4a44-9671-75df068a98ed"
      },
      "source": [
        "jap_res_outside_bkk = res_cat.filter(res_cat['category']=='Japanese')\n",
        "jap_res_outside_bkk.count()"
      ],
      "execution_count": 23,
      "outputs": [
        {
          "output_type": "execute_result",
          "data": {
            "text/plain": [
              "3053"
            ]
          },
          "metadata": {
            "tags": []
          },
          "execution_count": 23
        }
      ]
    },
    {
      "cell_type": "markdown",
      "metadata": {
        "id": "OGgmRLOOBDLi"
      },
      "source": [
        "### **จงแสดงรายชื่อร้านอาหารที่มีจำนวนการ check-in มากกว่า 300 ครั้ง**"
      ]
    },
    {
      "cell_type": "code",
      "metadata": {
        "colab": {
          "base_uri": "https://localhost:8080/"
        },
        "id": "npO7EVZW-Jq1",
        "outputId": "a4b4511d-7d65-4067-8e2f-1428a2c73ecf"
      },
      "source": [
        "wongnai_df.filter(wongnai_df['number_of_checkins'] > 300).select('name').show()"
      ],
      "execution_count": 25,
      "outputs": [
        {
          "output_type": "stream",
          "text": [
            "+--------------------+\n",
            "|                name|\n",
            "+--------------------+\n",
            "|  เจ๊โอว ข้าวต้มเป็ด|\n",
            "|            มุมอร่อย|\n",
            "|            มนต์นมสด|\n",
            "|             อบอร่อย|\n",
            "|      ต๋อง เต็ม โต๊ะ|\n",
            "|     The Glass House|\n",
            "| Annyeong Korean BBQ|\n",
            "|         กล้วยน้ำว้า|\n",
            "|สวนผัก โอ้กะจู๋ อ...|\n",
            "|              ไม้เอก|\n",
            "+--------------------+\n",
            "\n"
          ],
          "name": "stdout"
        }
      ]
    },
    {
      "cell_type": "markdown",
      "metadata": {
        "id": "f1NVNAi-BFkM"
      },
      "source": [
        "### **จงหาค่าเฉลี่ย (mean) ของราคาเฉลี่ย (avg_price) ของร้านอาหารทั้งหมด**"
      ]
    },
    {
      "cell_type": "code",
      "metadata": {
        "colab": {
          "base_uri": "https://localhost:8080/"
        },
        "id": "HxCrX81jJp0T",
        "outputId": "cb29ddf3-44e6-47d5-e685-ba6f1e233e5c"
      },
      "source": [
        "from pyspark.sql.functions import mean\n",
        "wongnai_df.select(mean('avg_price')).show()"
      ],
      "execution_count": 69,
      "outputs": [
        {
          "output_type": "stream",
          "text": [
            "+-----------------+\n",
            "|   avg(avg_price)|\n",
            "+-----------------+\n",
            "|326.0524635946539|\n",
            "+-----------------+\n",
            "\n"
          ],
          "name": "stdout"
        }
      ]
    }
  ]
}