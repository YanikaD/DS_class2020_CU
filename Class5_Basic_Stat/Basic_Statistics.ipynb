{
 "cells": [
  {
   "cell_type": "markdown",
   "metadata": {
    "id": "SRa7WtZG6DG-"
   },
   "source": [
    "# Basic Statistics Assignment\n",
    "### 6031010021 Yanika Dontong"
   ]
  },
  {
   "cell_type": "code",
   "execution_count": 2,
   "metadata": {
    "colab": {
     "base_uri": "https://localhost:8080/"
    },
    "id": "nPrlxBx76R93",
    "outputId": "d013755e-5f3d-4993-b5f1-ae8efef2ff81"
   },
   "outputs": [
    {
     "name": "stderr",
     "output_type": "stream",
     "text": [
      "/usr/local/lib/python3.6/dist-packages/statsmodels/tools/_testing.py:19: FutureWarning: pandas.util.testing is deprecated. Use the functions in the public API at pandas.testing instead.\n",
      "  import pandas.util.testing as tm\n"
     ]
    }
   ],
   "source": [
    "import statsmodels.api as sm\n",
    "import numpy as np\n",
    "import matplotlib.pyplot as plt\n",
    "import pandas as pd"
   ]
  },
  {
   "cell_type": "code",
   "execution_count": 3,
   "metadata": {
    "colab": {
     "base_uri": "https://localhost:8080/",
     "height": 310
    },
    "id": "21TM7vEo6S5W",
    "outputId": "4b4a0533-4dc9-4ff7-c3aa-e5561462ccaa"
   },
   "outputs": [
    {
     "data": {
      "text/html": [
       "<div>\n",
       "<style scoped>\n",
       "    .dataframe tbody tr th:only-of-type {\n",
       "        vertical-align: middle;\n",
       "    }\n",
       "\n",
       "    .dataframe tbody tr th {\n",
       "        vertical-align: top;\n",
       "    }\n",
       "\n",
       "    .dataframe thead th {\n",
       "        text-align: right;\n",
       "    }\n",
       "</style>\n",
       "<table border=\"1\" class=\"dataframe\">\n",
       "  <thead>\n",
       "    <tr style=\"text-align: right;\">\n",
       "      <th></th>\n",
       "      <th>age</th>\n",
       "      <th>workclass</th>\n",
       "      <th>fnlwgt</th>\n",
       "      <th>education</th>\n",
       "      <th>education-num</th>\n",
       "      <th>marital-status</th>\n",
       "      <th>occupation</th>\n",
       "      <th>relationship</th>\n",
       "      <th>race</th>\n",
       "      <th>sex</th>\n",
       "      <th>capital-gain</th>\n",
       "      <th>capital-loss</th>\n",
       "      <th>hours-per-week</th>\n",
       "      <th>native-country</th>\n",
       "      <th>salary</th>\n",
       "    </tr>\n",
       "  </thead>\n",
       "  <tbody>\n",
       "    <tr>\n",
       "      <th>0</th>\n",
       "      <td>39</td>\n",
       "      <td>State-gov</td>\n",
       "      <td>77516</td>\n",
       "      <td>Bachelors</td>\n",
       "      <td>13</td>\n",
       "      <td>Never-married</td>\n",
       "      <td>Adm-clerical</td>\n",
       "      <td>Not-in-family</td>\n",
       "      <td>White</td>\n",
       "      <td>Male</td>\n",
       "      <td>2174</td>\n",
       "      <td>0</td>\n",
       "      <td>40</td>\n",
       "      <td>United-States</td>\n",
       "      <td>&lt;=50K</td>\n",
       "    </tr>\n",
       "    <tr>\n",
       "      <th>1</th>\n",
       "      <td>50</td>\n",
       "      <td>Self-emp-not-inc</td>\n",
       "      <td>83311</td>\n",
       "      <td>Bachelors</td>\n",
       "      <td>13</td>\n",
       "      <td>Married-civ-spouse</td>\n",
       "      <td>Exec-managerial</td>\n",
       "      <td>Husband</td>\n",
       "      <td>White</td>\n",
       "      <td>Male</td>\n",
       "      <td>0</td>\n",
       "      <td>0</td>\n",
       "      <td>13</td>\n",
       "      <td>United-States</td>\n",
       "      <td>&lt;=50K</td>\n",
       "    </tr>\n",
       "    <tr>\n",
       "      <th>2</th>\n",
       "      <td>38</td>\n",
       "      <td>Private</td>\n",
       "      <td>215646</td>\n",
       "      <td>HS-grad</td>\n",
       "      <td>9</td>\n",
       "      <td>Divorced</td>\n",
       "      <td>Handlers-cleaners</td>\n",
       "      <td>Not-in-family</td>\n",
       "      <td>White</td>\n",
       "      <td>Male</td>\n",
       "      <td>0</td>\n",
       "      <td>0</td>\n",
       "      <td>40</td>\n",
       "      <td>United-States</td>\n",
       "      <td>&lt;=50K</td>\n",
       "    </tr>\n",
       "    <tr>\n",
       "      <th>3</th>\n",
       "      <td>53</td>\n",
       "      <td>Private</td>\n",
       "      <td>234721</td>\n",
       "      <td>11th</td>\n",
       "      <td>7</td>\n",
       "      <td>Married-civ-spouse</td>\n",
       "      <td>Handlers-cleaners</td>\n",
       "      <td>Husband</td>\n",
       "      <td>Black</td>\n",
       "      <td>Male</td>\n",
       "      <td>0</td>\n",
       "      <td>0</td>\n",
       "      <td>40</td>\n",
       "      <td>United-States</td>\n",
       "      <td>&lt;=50K</td>\n",
       "    </tr>\n",
       "    <tr>\n",
       "      <th>4</th>\n",
       "      <td>28</td>\n",
       "      <td>Private</td>\n",
       "      <td>338409</td>\n",
       "      <td>Bachelors</td>\n",
       "      <td>13</td>\n",
       "      <td>Married-civ-spouse</td>\n",
       "      <td>Prof-specialty</td>\n",
       "      <td>Wife</td>\n",
       "      <td>Black</td>\n",
       "      <td>Female</td>\n",
       "      <td>0</td>\n",
       "      <td>0</td>\n",
       "      <td>40</td>\n",
       "      <td>Cuba</td>\n",
       "      <td>&lt;=50K</td>\n",
       "    </tr>\n",
       "  </tbody>\n",
       "</table>\n",
       "</div>"
      ],
      "text/plain": [
       "   age         workclass  fnlwgt  ... hours-per-week  native-country salary\n",
       "0   39         State-gov   77516  ...             40   United-States  <=50K\n",
       "1   50  Self-emp-not-inc   83311  ...             13   United-States  <=50K\n",
       "2   38           Private  215646  ...             40   United-States  <=50K\n",
       "3   53           Private  234721  ...             40   United-States  <=50K\n",
       "4   28           Private  338409  ...             40            Cuba  <=50K\n",
       "\n",
       "[5 rows x 15 columns]"
      ]
     },
     "execution_count": 3,
     "metadata": {
      "tags": []
     },
     "output_type": "execute_result"
    }
   ],
   "source": [
    "data = pd.read_csv('https://github.com/kaopanboonyuen/Python-Data-Science/raw/master/Dataset/adult.data.csv')\n",
    "data.head()"
   ]
  },
  {
   "cell_type": "markdown",
   "metadata": {
    "id": "P8auQfFRu0n5"
   },
   "source": [
    "![alt text](https://media.giphy.com/media/L20mbc7yRfsly/giphy.gif)"
   ]
  },
  {
   "cell_type": "markdown",
   "metadata": {
    "id": "hQWzE5gP6Ig0"
   },
   "source": [
    "## Assignment 1: EDA"
   ]
  },
  {
   "cell_type": "code",
   "execution_count": null,
   "metadata": {
    "colab": {
     "base_uri": "https://localhost:8080/"
    },
    "id": "oRFzCuRi6_AE",
    "outputId": "50e772d3-76c1-4214-98b1-1afd3b44fa1a"
   },
   "outputs": [
    {
     "name": "stdout",
     "output_type": "stream",
     "text": [
      "Woman: 10771\n",
      "Man: 21790\n"
     ]
    }
   ],
   "source": [
    "# 1. How many men and women (sex feature) are represented in this dataset?\n",
    "\n",
    "# You code here\n",
    "woman = data[data['sex']=='Female']\n",
    "man = data[data['sex']=='Male']\n",
    "print(\"Woman: \"+ str(len(woman)))\n",
    "print(\"Man: \"+ str(len(man)))"
   ]
  },
  {
   "cell_type": "code",
   "execution_count": null,
   "metadata": {
    "colab": {
     "base_uri": "https://localhost:8080/"
    },
    "id": "Ls0Bk1s72eBE",
    "outputId": "8e1d3747-928b-4664-c334-6589049089ee"
   },
   "outputs": [
    {
     "name": "stdout",
     "output_type": "stream",
     "text": [
      "count    10771.000000\n",
      "mean        36.858230\n",
      "std         14.013697\n",
      "min         17.000000\n",
      "25%         25.000000\n",
      "50%         35.000000\n",
      "75%         46.000000\n",
      "max         90.000000\n",
      "Name: age, dtype: float64\n"
     ]
    }
   ],
   "source": [
    "# 2. What is the average, min, max, std, and median age (age feature) of women?\n",
    "\n",
    "# You code here\n",
    "print(woman['age'].describe())\n"
   ]
  },
  {
   "cell_type": "markdown",
   "metadata": {
    "id": "yDIgQ84UxhBf"
   },
   "source": [
    "**so, average is *36.858230*,\n",
    "min is *17*,\n",
    "max is *90*,\n",
    "std is *14.013697*,\n",
    "median is *35***"
   ]
  },
  {
   "cell_type": "code",
   "execution_count": null,
   "metadata": {
    "colab": {
     "base_uri": "https://localhost:8080/",
     "height": 81
    },
    "id": "aOzh6S7K7Qgf",
    "outputId": "dcf1e18e-8a53-4a16-d079-cc49b374441a"
   },
   "outputs": [
    {
     "data": {
      "text/html": [
       "<div>\n",
       "<style scoped>\n",
       "    .dataframe tbody tr th:only-of-type {\n",
       "        vertical-align: middle;\n",
       "    }\n",
       "\n",
       "    .dataframe tbody tr th {\n",
       "        vertical-align: top;\n",
       "    }\n",
       "\n",
       "    .dataframe thead th {\n",
       "        text-align: right;\n",
       "    }\n",
       "</style>\n",
       "<table border=\"1\" class=\"dataframe\">\n",
       "  <thead>\n",
       "    <tr style=\"text-align: right;\">\n",
       "      <th></th>\n",
       "      <th>native-country</th>\n",
       "      <th>age</th>\n",
       "      <th>Percentage</th>\n",
       "    </tr>\n",
       "  </thead>\n",
       "  <tbody>\n",
       "    <tr>\n",
       "      <th>39</th>\n",
       "      <td>United-States</td>\n",
       "      <td>29170</td>\n",
       "      <td>89.585701</td>\n",
       "    </tr>\n",
       "  </tbody>\n",
       "</table>\n",
       "</div>"
      ],
      "text/plain": [
       "   native-country    age  Percentage\n",
       "39  United-States  29170   89.585701"
      ]
     },
     "execution_count": 6,
     "metadata": {
      "tags": []
     },
     "output_type": "execute_result"
    }
   ],
   "source": [
    "# 3. What is the percentage of United-States citizens (native-country feature)?\n",
    "\n",
    "# You code here\n",
    "data_gb_country = data.groupby('native-country')['age'].count().reset_index()\n",
    "data_gb_country['Percentage'] = 100 * data_gb_country['age']  / data_gb_country['age'].sum()\n",
    "data_gb_country[data_gb_country['native-country']=='United-States']"
   ]
  },
  {
   "cell_type": "code",
   "execution_count": null,
   "metadata": {
    "colab": {
     "base_uri": "https://localhost:8080/"
    },
    "id": "nb67dfzt7SGI",
    "outputId": "8ba8073e-3f3c-47fa-af92-f85462fc084d"
   },
   "outputs": [
    {
     "data": {
      "text/plain": [
       "count    7841.000000\n",
       "mean       44.249841\n",
       "std        10.519028\n",
       "min        19.000000\n",
       "25%        36.000000\n",
       "50%        44.000000\n",
       "75%        51.000000\n",
       "max        90.000000\n",
       "Name: age, dtype: float64"
      ]
     },
     "execution_count": 7,
     "metadata": {
      "tags": []
     },
     "output_type": "execute_result"
    }
   ],
   "source": [
    "# 4. What are the mean and standard deviation of age for those who earn more than 50K per year (salary feature) \n",
    "\n",
    "# You code here\n",
    "data_gb_salary = data.groupby('salary')\n",
    "data_gb_salary.get_group('>50K')['age'].describe()"
   ]
  },
  {
   "cell_type": "markdown",
   "metadata": {
    "id": "oWylm1kn5_mh"
   },
   "source": [
    "**so, average age is *44.249841*,\n",
    "standard deviation is *10.519028***"
   ]
  },
  {
   "cell_type": "code",
   "execution_count": null,
   "metadata": {
    "colab": {
     "base_uri": "https://localhost:8080/"
    },
    "id": "6Sz_UX767SKA",
    "outputId": "edca2ea9-8ebb-4a5b-8816-9b5bfada5765"
   },
   "outputs": [
    {
     "data": {
      "text/plain": [
       "count    24720.000000\n",
       "mean        36.783738\n",
       "std         14.020088\n",
       "min         17.000000\n",
       "25%         25.000000\n",
       "50%         34.000000\n",
       "75%         46.000000\n",
       "max         90.000000\n",
       "Name: age, dtype: float64"
      ]
     },
     "execution_count": 8,
     "metadata": {
      "tags": []
     },
     "output_type": "execute_result"
    }
   ],
   "source": [
    "# 5. from 4 and those who earn less than 50K per year?\n",
    "\n",
    "# You code here\n",
    "data_gb_salary.get_group('<=50K')['age'].describe()"
   ]
  },
  {
   "cell_type": "markdown",
   "metadata": {
    "id": "LxAVrXS16WRf"
   },
   "source": [
    "**so, average age is *36.783738*,\n",
    "standard deviation is *14.020088***"
   ]
  },
  {
   "cell_type": "code",
   "execution_count": null,
   "metadata": {
    "colab": {
     "base_uri": "https://localhost:8080/"
    },
    "id": "JOuhBN9j-BnH",
    "outputId": "bcb2f26d-0f61-42d0-d67c-d63a8397b41c"
   },
   "outputs": [
    {
     "data": {
      "text/plain": [
       "education\n",
       "10th              62\n",
       "11th              60\n",
       "12th              33\n",
       "1st-4th            6\n",
       "5th-6th           16\n",
       "7th-8th           40\n",
       "9th               27\n",
       "Assoc-acdm       265\n",
       "Assoc-voc        361\n",
       "Bachelors       2221\n",
       "Doctorate        306\n",
       "HS-grad         1675\n",
       "Masters          959\n",
       "Prof-school      423\n",
       "Some-college    1387\n",
       "Name: age, dtype: int64"
      ]
     },
     "execution_count": 9,
     "metadata": {
      "tags": []
     },
     "output_type": "execute_result"
    }
   ],
   "source": [
    "# 6. Is it true that people who receive more than 50k have at least high school education? \n",
    "# (education - Bachelors, Prof-school, Assoc-acdm, Assoc-voc, Masters or Doctorate feature)\n",
    "\n",
    "# You code here\n",
    "data_salary_grt_50k_gb_edu = data[data['salary']==\">50K\"].groupby('education').count()\n",
    "data_salary_grt_50k_gb_edu['age']"
   ]
  },
  {
   "cell_type": "markdown",
   "metadata": {
    "id": "jW28Mw8EAZda"
   },
   "source": [
    "It is **False**, as the result above people who has salary more than 50K have variant educations."
   ]
  },
  {
   "cell_type": "code",
   "execution_count": null,
   "metadata": {
    "colab": {
     "base_uri": "https://localhost:8080/"
    },
    "id": "-eyid0Is3XFQ",
    "outputId": "e0d774e6-b2e8-40a5-8b1d-2f8e71e39517"
   },
   "outputs": [
    {
     "data": {
      "text/plain": [
       "99"
      ]
     },
     "execution_count": 10,
     "metadata": {
      "tags": []
     },
     "output_type": "execute_result"
    }
   ],
   "source": [
    "# 7. What is the maximum number of hours a person works per week (hours-per-week feature)?\n",
    "\n",
    "# You code here\n",
    "max(data['hours-per-week'])"
   ]
  },
  {
   "cell_type": "code",
   "execution_count": 10,
   "metadata": {
    "colab": {
     "base_uri": "https://localhost:8080/"
    },
    "id": "UFyAAY0O3fQe",
    "outputId": "1aa7f959-3177-43be-94aa-0809d1780758"
   },
   "outputs": [
    {
     "name": "stdout",
     "output_type": "stream",
     "text": [
      "there are 18 workers who have worked 9 hours-per-week\n",
      "there are 5.56 percent of them earn more salary\n"
     ]
    }
   ],
   "source": [
    "# 8. How many people work such a number of hours and what is the percentage of those who earn a lot among them?\n",
    "\n",
    "# You code here\n",
    "nine_hours_worker = data[data[\"hours-per-week\"]==9]\n",
    "rich_nine_hours_worker=nine_hours_worker[nine_hours_worker['salary']=='>50K']\n",
    "rich_percentage = len(rich_nine_hours_worker)*100/len(nine_hours_worker)\n",
    "print(\"there are \"+str(len(nine_hours_worker)) + \" workers who have worked 9 hours-per-week\")\n",
    "print(\"there are \"+str(\"{:.2f}\".format(rich_percentage))+\" percent of them earn more salary\")"
   ]
  },
  {
   "cell_type": "markdown",
   "metadata": {
    "id": "al1A720P7iCK"
   },
   "source": [
    "## Assignment 2: Two sample t-test"
   ]
  },
  {
   "cell_type": "markdown",
   "metadata": {
    "id": "rqT8NJvh8s0l"
   },
   "source": [
    "Is there a significant difference between the population proportions of parents of black children and parents of Hispanic children who report that their child has had some swimming lessons?\n",
    "\n",
    "**Populations**: All parents of black children age 6-18 and all parents of Hispanic children age 6-18  \n",
    "**Parameter of Interest**: p1 - p2, where p1 = black and p2 = hispanic  \n",
    "\n",
    "**Null Hypothesis:** p1 - p2 = 0  \n",
    "**Alternative Hypthosis:** p1 - p2 $\\neq$ = 0  \n",
    "\n",
    "**Data**: 247 Parents of Black Children. 36.8% of parents report that their child has had some swimming lessons. \n",
    "<br>308 Parents of Hispanic Children. 38.9% of parents report that their child has had some swimming lessons."
   ]
  },
  {
   "cell_type": "markdown",
   "metadata": {
    "id": "7FWFpN958vVK"
   },
   "source": [
    "> Use of `ttest_ind()` from `statsmodels`\n",
    "Difference in population proportion needs t-test. Also, the population follow a binomial distribution here. We can just pass on the two population quantities with the appropriate binomial distribution parameters to the t-test function.\n",
    "\n",
    "The function returns three values: (a) test statisic, (b) p-value of the t-test, and (c) degrees of freedom used in the t-test."
   ]
  },
  {
   "cell_type": "code",
   "execution_count": 19,
   "metadata": {
    "id": "M3TAT0WZ7lTQ"
   },
   "outputs": [],
   "source": [
    "# You code here\n",
    "from scipy.stats import ttest_ind,levene\n",
    "\n",
    "population1 = np.random.binomial(1, 0.368, 247)\n",
    "population2 = np.random.binomial(1, 0.389, 308)\n",
    "df = pd.DataFrame(data=population1)\n",
    "df.to_csv(\"population1.csv\", sep=',',index=False,header=None)\n",
    "df = pd.DataFrame(data=population2)\n",
    "df.to_csv(\"population2.csv\", sep=',',index=False,header=None)"
   ]
  },
  {
   "cell_type": "code",
   "execution_count": 20,
   "metadata": {
    "colab": {
     "base_uri": "https://localhost:8080/"
    },
    "id": "Tt2PgfMy7Bsy",
    "outputId": "d5dabb51-484a-479a-8d1c-aa809e29cf5b"
   },
   "outputs": [
    {
     "name": "stdout",
     "output_type": "stream",
     "text": [
      "p1 data :-\n",
      "\n",
      "[0. 0. 1. 0. 0. 0. 0. 0. 1. 0. 0. 0. 0. 0. 1. 0. 0. 1. 0. 0. 1. 1. 0. 1.\n",
      " 0. 0. 0. 0. 0. 0. 0. 1. 0. 0. 0. 0. 1. 1. 1. 0. 1. 0. 1. 1. 0. 0. 0. 0.\n",
      " 0. 0. 1. 0. 0. 0. 0. 1. 0. 0. 0. 1. 0. 0. 0. 0. 1. 0. 1. 0. 0. 0. 0. 0.\n",
      " 0. 1. 1. 0. 0. 0. 0. 1. 0. 1. 0. 0. 0. 1. 1. 0. 1. 0. 1. 0. 0. 0. 1. 1.\n",
      " 0. 0. 0. 0. 1. 0. 1. 0. 0. 1. 1. 1. 0. 0. 0. 0. 1. 0. 0. 0. 0. 0. 1. 0.\n",
      " 0. 1. 0. 1. 1. 0. 1. 1. 0. 0. 0. 0. 0. 0. 1. 1. 0. 0. 1. 1. 0. 1. 0. 1.\n",
      " 1. 1. 1. 1. 0. 1. 0. 1. 0. 0. 0. 0. 0. 0. 0. 0. 0. 0. 0. 1. 1. 0. 0. 1.\n",
      " 0. 0. 1. 0. 0. 0. 1. 0. 1. 0. 0. 1. 1. 1. 1. 0. 1. 0. 1. 0. 0. 1. 1. 1.\n",
      " 1. 0. 0. 1. 1. 0. 0. 1. 1. 0. 1. 1. 0. 0. 1. 0. 0. 1. 0. 1. 0. 1. 1. 0.\n",
      " 1. 0. 1. 0. 0. 0. 1. 0. 1. 0. 0. 1. 1. 0. 0. 1. 0. 0. 0. 1. 1. 0. 0. 0.\n",
      " 1. 0. 1. 0. 1. 0. 1.]\n",
      "\n",
      "\n",
      "p2 data :-\n",
      "\n",
      "[1. 0. 1. 1. 0. 0. 0. 1. 0. 0. 1. 1. 1. 0. 0. 0. 0. 0. 1. 0. 0. 0. 0. 0.\n",
      " 1. 1. 1. 0. 0. 0. 1. 0. 0. 0. 0. 0. 0. 1. 1. 0. 0. 0. 0. 1. 0. 0. 0. 0.\n",
      " 0. 0. 1. 1. 1. 0. 1. 1. 0. 0. 0. 0. 1. 0. 0. 1. 0. 1. 0. 0. 1. 0. 0. 1.\n",
      " 1. 0. 0. 0. 0. 0. 1. 0. 0. 0. 0. 1. 0. 1. 1. 0. 0. 0. 0. 0. 0. 1. 1. 1.\n",
      " 0. 1. 0. 1. 1. 0. 0. 0. 1. 1. 1. 0. 1. 0. 0. 1. 1. 1. 1. 0. 1. 1. 1. 0.\n",
      " 0. 0. 0. 0. 0. 0. 0. 0. 1. 0. 1. 1. 1. 0. 1. 0. 0. 0. 0. 1. 0. 1. 0. 0.\n",
      " 0. 1. 0. 0. 0. 0. 0. 0. 0. 0. 0. 1. 1. 1. 0. 1. 0. 0. 0. 0. 1. 0. 0. 0.\n",
      " 0. 0. 1. 0. 0. 1. 0. 1. 0. 0. 0. 0. 0. 1. 0. 0. 0. 0. 0. 0. 1. 0. 0. 0.\n",
      " 1. 1. 1. 0. 0. 0. 0. 0. 1. 0. 0. 1. 0. 0. 0. 0. 0. 0. 1. 1. 0. 1. 1. 0.\n",
      " 0. 0. 1. 0. 1. 1. 1. 0. 1. 1. 1. 0. 1. 0. 0. 0. 1. 0. 1. 0. 1. 1. 1. 0.\n",
      " 0. 1. 1. 1. 1. 1. 0. 0. 1. 1. 0. 1. 0. 0. 1. 1. 0. 1. 0. 1. 1. 0. 0. 0.\n",
      " 1. 0. 0. 1. 1. 0. 0. 1. 1. 0. 1. 1. 0. 0. 1. 0. 0. 0. 0. 0. 0. 0. 0. 0.\n",
      " 0. 1. 0. 1. 0. 0. 0. 1. 1. 0. 0. 0. 1. 0. 1. 1. 1. 0. 1. 1.]\n"
     ]
    }
   ],
   "source": [
    "p1 = np.genfromtxt(\"population1.csv\",  delimiter=\",\")\n",
    "p2 = np.genfromtxt(\"population2.csv\",  delimiter=\",\")\n",
    "print(\"p1 data :-\\n\")\n",
    "print(p1)\n",
    "print(\"\\n\")\n",
    "print(\"p2 data :-\\n\")\n",
    "print(p2)"
   ]
  },
  {
   "cell_type": "code",
   "execution_count": 30,
   "metadata": {
    "colab": {
     "base_uri": "https://localhost:8080/"
    },
    "id": "ZG364FNx9bdy",
    "outputId": "c2718ce9-071f-4ac8-e0a0-b632fbd2711d"
   },
   "outputs": [
    {
     "name": "stdout",
     "output_type": "stream",
     "text": [
      "ttest: -0.15886634692036355\n",
      "pvalue: 0.8738321756028915\n",
      "degree of freedom: 553\n",
      "we are accepting null hypothesis\n"
     ]
    }
   ],
   "source": [
    "ttest,pvalue = ttest_ind(p1,p2,equal_var=True) \n",
    "print(\"ttest: \"+str(ttest))\n",
    "print(\"pvalue: \"+str(pvalue))\n",
    "dgf = p1.size+p2.size-2\n",
    "print(\"degree of freedom: \"+ str(dgf))\n",
    "\n",
    "if pvalue < 0.05:    \n",
    "   print(\"we are rejecting null hypothesis\")\n",
    "else:\n",
    "  print(\"we are accepting null hypothesis\")"
   ]
  },
  {
   "cell_type": "markdown",
   "metadata": {
    "id": "dF8Kx3Pv_zp7"
   },
   "source": [
    "**So, There is a significant difference between the population proportions of parents of black children and parents of Hispanic children who report that their child has had some swimming lessons**"
   ]
  },
  {
   "cell_type": "markdown",
   "metadata": {
    "id": "QdcLP_oG3DNE"
   },
   "source": [
    "## Assignment 3: One sample t-test"
   ]
  },
  {
   "cell_type": "markdown",
   "metadata": {
    "id": "uUF3MrY93Gds"
   },
   "source": [
    "Let's say a cartwheeling competition was organized for some adults. The data looks like following,\n",
    "\n",
    "(80.57, 98.96, 85.28, 83.83, 69.94, 89.59, 91.09, 66.25, 91.21, 82.7 , 73.54, 81.99, 54.01, 82.89, 75.88, 98.32, 107.2 , 85.53, 79.08, 84.3 , 89.32, 86.35, 78.98, 92.26, 87.01)\n",
    "\n",
    "Is distance Is the average cartwheel distance (in inches) for adults more than 80 inches?\n",
    "\n",
    "**Population**: All adults  \n",
    "**Parameter of Interest**: $\\mu$, population mean cartwheel distance.\n",
    "\n",
    "**Null Hypothesis:** $\\mu$ = 80 \n",
    "<br>**Alternative Hypthosis**: $\\mu$ > 80\n",
    "\n",
    "**Data**:\n",
    "<br>25 adult participants. \n",
    "<br>$\\mu = 83.84$\n",
    "<br>$\\sigma = 10.72$"
   ]
  },
  {
   "cell_type": "code",
   "execution_count": null,
   "metadata": {
    "id": "AWRHE7Yq3Fv4"
   },
   "outputs": [],
   "source": [
    "# You code here\n",
    "from scipy.stats import ttest_1samp\n",
    "dist_list = [80.57, 98.96, 85.28, 83.83, 69.94, 89.59, 91.09, 66.25, 91.21, 82.7 , 73.54, 81.99, 54.01, 82.89, 75.88, 98.32, 107.2 , 85.53, 79.08, 84.3 , 89.32, 86.35, 78.98, 92.26, 87.01]\n",
    "df = pd.DataFrame(data=dist_list)\n",
    "df.to_csv(\"distance.csv\", sep=',',index=False,header=None)"
   ]
  },
  {
   "cell_type": "code",
   "execution_count": null,
   "metadata": {
    "colab": {
     "base_uri": "https://localhost:8080/"
    },
    "id": "QzABlihV3T9K",
    "outputId": "efeabe88-dad0-48ba-c53a-de6e13dd1aa0"
   },
   "outputs": [
    {
     "name": "stdout",
     "output_type": "stream",
     "text": [
      "83.84320000000001\n",
      "t =  1.756973189172546 , p-value =  0.09167485698904507\n",
      "we are accepting null hypothesis\n"
     ]
    }
   ],
   "source": [
    "distances = np.genfromtxt('distance.csv')\n",
    "distances_mean = np.mean(distances)\n",
    "print(distances_mean)\n",
    "t,pval = ttest_1samp(distances,80)\n",
    "print(\"t = \",t,\", p-value = \",pval)\n",
    "\n",
    "if pval < 0.05:    \n",
    "   print(\"we are rejecting null hypothesis\")\n",
    "else:\n",
    "  print(\"we are accepting null hypothesis\")"
   ]
  },
  {
   "cell_type": "markdown",
   "metadata": {
    "id": "D586YbeaGeRh"
   },
   "source": [
    "**So, the average distance of cartwheel  (in inches) for adults are more than 80 inches.**\n"
   ]
  }
 ],
 "metadata": {
  "colab": {
   "collapsed_sections": [],
   "name": "Basic Statistics_Homework_toStudent.ipynb",
   "provenance": []
  },
  "kernelspec": {
   "display_name": "Python 3",
   "language": "python",
   "name": "python3"
  },
  "language_info": {
   "codemirror_mode": {
    "name": "ipython",
    "version": 3
   },
   "file_extension": ".py",
   "mimetype": "text/x-python",
   "name": "python",
   "nbconvert_exporter": "python",
   "pygments_lexer": "ipython3",
   "version": "3.7.1"
  }
 },
 "nbformat": 4,
 "nbformat_minor": 1
}
