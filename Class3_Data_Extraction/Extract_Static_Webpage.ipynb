{
  "nbformat": 4,
  "nbformat_minor": 0,
  "metadata": {
    "colab": {
      "name": "Assignment-2.ipynb",
      "provenance": [],
      "collapsed_sections": []
    },
    "kernelspec": {
      "name": "python3",
      "display_name": "Python 3"
    }
  },
  "cells": [
    {
      "cell_type": "markdown",
      "metadata": {
        "id": "I7mw9kqj3XOu"
      },
      "source": [
        "# Assignment: Extract Static Webpage\r\n",
        "\r\n",
        "Extract information about “วันพระ” ในระยะเวลา 3 ปีจาก\r\n",
        "\r\n",
        " \r\n",
        "*   https://www.myhora.com/ปฏิทิน/วันพระ-พ.ศ.2562.aspx\r\n",
        "*   https://www.myhora.com/ปฏิทิน/วันพระ-พ.ศ.2563.aspx\r\n",
        "*   https://www.myhora.com/ปฏิทิน/วันพระ-พ.ศ.2564.aspx\r\n",
        "\r\n",
        "Count the distribution of number of week days that are “วันพระ” for all three years and answer the following questions:\r\n",
        "\r\n",
        "    \r\n",
        "\r\n",
        "*   How many days in total (of 3 years) that วันพระ is Sunday?\r\n",
        "*   Which day of the week that has the minimum number of วันพระ?\r\n",
        "*   Which has the maximum?\r\n",
        "\r\n",
        "Note that you can use dateparser package to parse Thai date.  There is an example shown in the assignment template"
      ]
    },
    {
      "cell_type": "code",
      "metadata": {
        "id": "FfQwU2r-4DhI"
      },
      "source": [
        "import requests\r\n",
        "import re\r\n",
        "from bs4 import BeautifulSoup\r\n",
        "import pandas as pd"
      ],
      "execution_count": 31,
      "outputs": []
    },
    {
      "cell_type": "code",
      "metadata": {
        "id": "3BDiLgTk5AQr"
      },
      "source": [
        "calender_2562 = requests.get('https://www.myhora.com/ปฏิทิน/วันพระ-พ.ศ.2562.aspx')\r\n",
        "calender_2563 = requests.get('https://www.myhora.com/ปฏิทิน/วันพระ-พ.ศ.2563.aspx')\r\n",
        "calender_2564 = requests.get('https://www.myhora.com/ปฏิทิน/วันพระ-พ.ศ.2564.aspx')"
      ],
      "execution_count": 8,
      "outputs": []
    },
    {
      "cell_type": "code",
      "metadata": {
        "id": "NRDaFSDq5KWl"
      },
      "source": [
        "soup_2562 = BeautifulSoup(calender_2562.text, \"lxml\")\r\n",
        "soup_2563 = BeautifulSoup(calender_2563.text, \"lxml\")\r\n",
        "soup_2564 = BeautifulSoup(calender_2564.text, \"lxml\")"
      ],
      "execution_count": 9,
      "outputs": []
    },
    {
      "cell_type": "code",
      "metadata": {
        "id": "LMNjR2Qx8tSf"
      },
      "source": [
        "buddha_day = {}\r\n",
        "for line in soup_2562.find_all('div'):\r\n",
        "  if line.get('class') == ['buddha_day']:\r\n",
        "    date = line.text.split(' ')[0][:-3]\r\n",
        "    if date in buddha_day:\r\n",
        "        buddha_day[date] += 1\r\n",
        "    else:\r\n",
        "        buddha_day[date] = 1\r\n",
        "for line in soup_2563.find_all('div'):\r\n",
        "  if line.get('class') == ['buddha_day']:\r\n",
        "    date = line.text.split(' ')[0][:-3]\r\n",
        "    if date in buddha_day:\r\n",
        "        buddha_day[date] += 1\r\n",
        "    else:\r\n",
        "        buddha_day[date] = 1\r\n",
        "for line in soup_2564.find_all('div'):\r\n",
        "  if line.get('class') == ['buddha_day']:\r\n",
        "    date = line.text.split(' ')[0][:-3]\r\n",
        "    if date in buddha_day:\r\n",
        "        buddha_day[date] += 1\r\n",
        "    else:\r\n",
        "        buddha_day[date] = 1"
      ],
      "execution_count": 37,
      "outputs": []
    },
    {
      "cell_type": "code",
      "metadata": {
        "colab": {
          "base_uri": "https://localhost:8080/"
        },
        "id": "trHWVZHm-fA5",
        "outputId": "579e2c4f-8519-48c2-cc60-6484b2f3ce0b"
      },
      "source": [
        "buddha_day"
      ],
      "execution_count": 38,
      "outputs": [
        {
          "output_type": "execute_result",
          "data": {
            "text/plain": [
              "{'วันจันทร์': 23,\n",
              " 'วันพฤหัสบดี': 21,\n",
              " 'วันพุธ': 22,\n",
              " 'วันศุกร์': 21,\n",
              " 'วันอังคาร': 22,\n",
              " 'วันอาทิตย์': 22,\n",
              " 'วันเสาร์': 20}"
            ]
          },
          "metadata": {
            "tags": []
          },
          "execution_count": 38
        }
      ]
    },
    {
      "cell_type": "markdown",
      "metadata": {
        "id": "vQ2icpwl4Tom"
      },
      "source": [
        "##  How many days in total (of 3 years) that วันพระ is Sunday?\r\n"
      ]
    },
    {
      "cell_type": "code",
      "metadata": {
        "colab": {
          "base_uri": "https://localhost:8080/"
        },
        "id": "sQOXSxxa4Z30",
        "outputId": "6615a590-6f27-4ee6-fadf-708cde40739e"
      },
      "source": [
        "buddha_day['วันอาทิตย์']"
      ],
      "execution_count": 39,
      "outputs": [
        {
          "output_type": "execute_result",
          "data": {
            "text/plain": [
              "22"
            ]
          },
          "metadata": {
            "tags": []
          },
          "execution_count": 39
        }
      ]
    },
    {
      "cell_type": "markdown",
      "metadata": {
        "id": "SQl3_rgb4adq"
      },
      "source": [
        "## Which day of the week that has the minimum number of วันพระ?"
      ]
    },
    {
      "cell_type": "code",
      "metadata": {
        "colab": {
          "base_uri": "https://localhost:8080/"
        },
        "id": "DPL8iV6Q4dzO",
        "outputId": "59340a03-a3ed-4fe0-dba2-32b85efec849"
      },
      "source": [
        "minimum_day = min(buddha_day, key = buddha_day.get)\r\n",
        "print(minimum_day,buddha_day[minimum_day])"
      ],
      "execution_count": 42,
      "outputs": [
        {
          "output_type": "stream",
          "text": [
            "วันเสาร์ 20\n"
          ],
          "name": "stdout"
        }
      ]
    },
    {
      "cell_type": "markdown",
      "metadata": {
        "id": "D_YC-a584eU3"
      },
      "source": [
        "## Which has the maximum?"
      ]
    },
    {
      "cell_type": "code",
      "metadata": {
        "colab": {
          "base_uri": "https://localhost:8080/"
        },
        "id": "09uusAjQ4h9w",
        "outputId": "d60a2fc8-090d-4c75-b33b-26c454d2d373"
      },
      "source": [
        "maximum_day = max(buddha_day, key = buddha_day.get)\r\n",
        "print(maximum_day,buddha_day[maximum_day])"
      ],
      "execution_count": 43,
      "outputs": [
        {
          "output_type": "stream",
          "text": [
            "วันจันทร์ 23\n"
          ],
          "name": "stdout"
        }
      ]
    }
  ]
}