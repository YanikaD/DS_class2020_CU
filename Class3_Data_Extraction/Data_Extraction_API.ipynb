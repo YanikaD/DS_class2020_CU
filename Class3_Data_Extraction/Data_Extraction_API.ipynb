{
  "nbformat": 4,
  "nbformat_minor": 0,
  "metadata": {
    "accelerator": "GPU",
    "colab": {
      "name": "Assignment-1.ipynb",
      "provenance": [],
      "collapsed_sections": []
    },
    "kernelspec": {
      "display_name": "Python 3",
      "language": "python",
      "name": "python3"
    },
    "language_info": {
      "codemirror_mode": {
        "name": "ipython",
        "version": 3
      },
      "file_extension": ".py",
      "mimetype": "text/x-python",
      "name": "python",
      "nbconvert_exporter": "python",
      "pygments_lexer": "ipython3",
      "version": "3.7.1-final"
    },
    "toc": {
      "base_numbering": 1,
      "nav_menu": {},
      "number_sections": true,
      "sideBar": true,
      "skip_h1_title": false,
      "title_cell": "Table of Contents",
      "title_sidebar": "Contents",
      "toc_cell": false,
      "toc_position": {},
      "toc_section_display": true,
      "toc_window_display": false
    },
    "varInspector": {
      "cols": {
        "lenName": 16,
        "lenType": 16,
        "lenVar": 40
      },
      "kernels_config": {
        "python": {
          "delete_cmd_postfix": "",
          "delete_cmd_prefix": "del ",
          "library": "var_list.py",
          "varRefreshCmd": "print(var_dic_list())"
        },
        "r": {
          "delete_cmd_postfix": ") ",
          "delete_cmd_prefix": "rm(",
          "library": "var_list.r",
          "varRefreshCmd": "cat(var_dic_list()) "
        }
      },
      "types_to_exclude": [
        "module",
        "function",
        "builtin_function_or_method",
        "instance",
        "_Feature"
      ],
      "window_display": false
    }
  },
  "cells": [
    {
      "cell_type": "markdown",
      "metadata": {
        "id": "GJAaLjy9czVg"
      },
      "source": [
        "# Assignment: Data Extraction\n",
        "Extract Thailand's Covid-19 cases data via DDC open-data API at https://covid19.th-stat.com/api/open/cases\n",
        "and answer the following questions:\n",
        "- how many people are infected on new year day of 2021?\n",
        "- which country **is not** in the list of the nationality of the infected people on the New Year day of 2021?\n",
        "- what are the average ages by gender of infected people on the New Year day of 2021?"
      ]
    },
    {
      "cell_type": "code",
      "metadata": {
        "id": "DSwmHvmroBeF"
      },
      "source": [
        "import requests\r\n",
        "import json\r\n",
        "import pprint\r\n",
        "api_url = 'https://covid19.th-stat.com/api/open/cases'"
      ],
      "execution_count": 1,
      "outputs": []
    },
    {
      "cell_type": "code",
      "metadata": {
        "colab": {
          "base_uri": "https://localhost:8080/",
          "height": 143
        },
        "id": "DcYY9yfdoMQA",
        "outputId": "206c85c3-5168-4a0e-dc2a-6ca64f66f826"
      },
      "source": [
        "data_info = requests.get(api_url)\n",
        "# data_info.text"
      ],
      "execution_count": 4,
      "outputs": []
    },
    {
      "cell_type": "code",
      "metadata": {
        "id": "ZOeAZdCxnhok"
      },
      "source": [
        "set_info = json.loads(data_info.text)"
      ],
      "execution_count": 3,
      "outputs": []
    },
    {
      "cell_type": "markdown",
      "metadata": {
        "id": "votYfQ-aczVo"
      },
      "source": [
        "## how many people are infected on new year day of 2021?"
      ]
    },
    {
      "cell_type": "code",
      "metadata": {
        "id": "az_jf1OLczVp",
        "colab": {
          "base_uri": "https://localhost:8080/"
        },
        "outputId": "e2be48bf-bee4-4c8b-8415-41c4018bb632"
      },
      "source": [
        "infected_people = []\r\n",
        "for p in set_info['Data']:\r\n",
        "  if p['ConfirmDate'] ==  '2021-01-01 00:00:00':\r\n",
        "    infected_people.append(p)\r\n",
        "len(infected_people)"
      ],
      "execution_count": 5,
      "outputs": [
        {
          "output_type": "execute_result",
          "data": {
            "text/plain": [
              "279"
            ]
          },
          "metadata": {
            "tags": []
          },
          "execution_count": 5
        }
      ]
    },
    {
      "cell_type": "markdown",
      "metadata": {
        "id": "6gy9HEBxczVq"
      },
      "source": [
        "## Which country is not in the list of the nationality of the infected people on the New Year day of 2021?\n",
        "- Thailand\n",
        "- Cambodia\n",
        "- Burma\n",
        "- China\n",
        "- Slovenia\n",
        "- England\n",
        "- Italy\n",
        "- Germany"
      ]
    },
    {
      "cell_type": "code",
      "metadata": {
        "id": "t9d22hUbczVr",
        "colab": {
          "base_uri": "https://localhost:8080/"
        },
        "outputId": "a4835bbf-24f0-4bc2-f9e6-c73935fce300"
      },
      "source": [
        "import pandas as pd\r\n",
        "infected_in_newyears_df = pd.DataFrame(infected_people)\r\n",
        "nationality = ['Thailand','Cambodia','Burma','China','Slovenia','England','Italy','Germany']\r\n",
        "for n in nationality:\r\n",
        "  if n not in infected_in_newyears_df['NationEn'].values:\r\n",
        "    print(n)"
      ],
      "execution_count": 6,
      "outputs": [
        {
          "output_type": "stream",
          "text": [
            "Burma\n",
            "Slovenia\n",
            "England\n"
          ],
          "name": "stdout"
        }
      ]
    },
    {
      "cell_type": "markdown",
      "metadata": {
        "id": "NOsCUDr6czVs"
      },
      "source": [
        "## What are the average ages by gender of infected people on the New Year day of 2021?"
      ]
    },
    {
      "cell_type": "code",
      "metadata": {
        "id": "KHGNETo7czVt",
        "colab": {
          "base_uri": "https://localhost:8080/"
        },
        "outputId": "6a0a1899-4e9e-420e-f2bf-a980a32eacd2"
      },
      "source": [
        "male_infected = infected_in_newyears_df[infected_in_newyears_df.GenderEn == 'Male']\r\n",
        "male_infected.Age.mean()"
      ],
      "execution_count": 21,
      "outputs": [
        {
          "output_type": "execute_result",
          "data": {
            "text/plain": [
              "39.417910447761194"
            ]
          },
          "metadata": {
            "tags": []
          },
          "execution_count": 21
        }
      ]
    },
    {
      "cell_type": "code",
      "metadata": {
        "id": "lu_vy8v2czVt",
        "colab": {
          "base_uri": "https://localhost:8080/"
        },
        "outputId": "7828b2c9-ae13-4a3e-e397-7c68d55e91ca"
      },
      "source": [
        "female_infected = infected_in_newyears_df[infected_in_newyears_df.GenderEn == 'Female']\r\n",
        "female_infected.Age.mean()"
      ],
      "execution_count": 22,
      "outputs": [
        {
          "output_type": "execute_result",
          "data": {
            "text/plain": [
              "38.67567567567568"
            ]
          },
          "metadata": {
            "tags": []
          },
          "execution_count": 22
        }
      ]
    }
  ]
}