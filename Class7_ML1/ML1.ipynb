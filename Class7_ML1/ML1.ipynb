{
  "nbformat": 4,
  "nbformat_minor": 0,
  "metadata": {
    "colab": {
      "name": "HW7_ML1.ipynb",
      "provenance": [],
      "collapsed_sections": []
    },
    "kernelspec": {
      "name": "python3",
      "display_name": "Python 3"
    },
    "language_info": {
      "name": "python"
    }
  },
  "cells": [
    {
      "cell_type": "markdown",
      "metadata": {
        "id": "JsV5TBtVjmgr"
      },
      "source": [
        "#Homework: Give me some credit data set \n",
        "#### 6031010021 Yanika Dontong "
      ]
    },
    {
      "cell_type": "markdown",
      "metadata": {
        "id": "vMSzKSQFX4xl"
      },
      "source": [
        "##Prepare Data"
      ]
    },
    {
      "cell_type": "code",
      "metadata": {
        "colab": {
          "base_uri": "https://localhost:8080/"
        },
        "id": "fS1JmoJwHq-Q",
        "outputId": "76337c63-098e-41f6-e398-397a5e683dac"
      },
      "source": [
        "!wget https://www.dropbox.com/s/jnb925zkvbjgu7a/Data%20Dictionary.xls?dl=1 -O data_dictionary.xls\n",
        "!wget https://www.dropbox.com/s/ar80echwdtl8jru/cs-training.csv?dl=1 -O data.csv"
      ],
      "execution_count": 1,
      "outputs": [
        {
          "output_type": "stream",
          "text": [
            "--2021-03-22 10:19:52--  https://www.dropbox.com/s/jnb925zkvbjgu7a/Data%20Dictionary.xls?dl=1\n",
            "Resolving www.dropbox.com (www.dropbox.com)... 162.125.3.18, 2620:100:601b:18::a27d:812\n",
            "Connecting to www.dropbox.com (www.dropbox.com)|162.125.3.18|:443... connected.\n",
            "HTTP request sent, awaiting response... 301 Moved Permanently\n",
            "Location: /s/dl/jnb925zkvbjgu7a/Data%20Dictionary.xls [following]\n",
            "--2021-03-22 10:19:52--  https://www.dropbox.com/s/dl/jnb925zkvbjgu7a/Data%20Dictionary.xls\n",
            "Reusing existing connection to www.dropbox.com:443.\n",
            "HTTP request sent, awaiting response... 302 Found\n",
            "Location: https://uc00b7eae18d39273d30077f8518.dl.dropboxusercontent.com/cd/0/get/BLLWkw4U66FsgV64GehkM8ScYduYYu2WC1lIcFqvQXe-J-WhTOMWnbHKcTJ3vWY_kNe2ups8R5I-CJw8BugRwgZQ6j-0o4gkGzRaviERhrcPUK6UQP-k66-CiwglmshAA9Zqn6QtCMNnP_VUeAL-4t_j/file?dl=1# [following]\n",
            "--2021-03-22 10:19:53--  https://uc00b7eae18d39273d30077f8518.dl.dropboxusercontent.com/cd/0/get/BLLWkw4U66FsgV64GehkM8ScYduYYu2WC1lIcFqvQXe-J-WhTOMWnbHKcTJ3vWY_kNe2ups8R5I-CJw8BugRwgZQ6j-0o4gkGzRaviERhrcPUK6UQP-k66-CiwglmshAA9Zqn6QtCMNnP_VUeAL-4t_j/file?dl=1\n",
            "Resolving uc00b7eae18d39273d30077f8518.dl.dropboxusercontent.com (uc00b7eae18d39273d30077f8518.dl.dropboxusercontent.com)... 162.125.3.15, 2620:100:6018:15::a27d:30f\n",
            "Connecting to uc00b7eae18d39273d30077f8518.dl.dropboxusercontent.com (uc00b7eae18d39273d30077f8518.dl.dropboxusercontent.com)|162.125.3.15|:443... connected.\n",
            "HTTP request sent, awaiting response... 200 OK\n",
            "Length: 14848 (14K) [application/binary]\n",
            "Saving to: ‘data_dictionary.xls’\n",
            "\n",
            "data_dictionary.xls 100%[===================>]  14.50K  --.-KB/s    in 0s      \n",
            "\n",
            "2021-03-22 10:19:53 (175 MB/s) - ‘data_dictionary.xls’ saved [14848/14848]\n",
            "\n",
            "--2021-03-22 10:19:53--  https://www.dropbox.com/s/ar80echwdtl8jru/cs-training.csv?dl=1\n",
            "Resolving www.dropbox.com (www.dropbox.com)... 162.125.3.18, 2620:100:601b:18::a27d:812\n",
            "Connecting to www.dropbox.com (www.dropbox.com)|162.125.3.18|:443... connected.\n",
            "HTTP request sent, awaiting response... 301 Moved Permanently\n",
            "Location: /s/dl/ar80echwdtl8jru/cs-training.csv [following]\n",
            "--2021-03-22 10:19:53--  https://www.dropbox.com/s/dl/ar80echwdtl8jru/cs-training.csv\n",
            "Reusing existing connection to www.dropbox.com:443.\n",
            "HTTP request sent, awaiting response... 302 Found\n",
            "Location: https://uc9733dfd1e4bb56a65caef97b2e.dl.dropboxusercontent.com/cd/0/get/BLJvbhW6Pq_a9iul9McmWXudvX2Q0an8uZugV4hDY2RRbH7oPaprz1HH_KI6MkA7g0aORukR6XfRA00dVcrWtfAUcMTE8roYpJMReGOBTKE9Kddb08QsdMvpNGr0a4v94WOafsyFjN_Eaq4F5Z6Yg6OC/file?dl=1# [following]\n",
            "--2021-03-22 10:19:54--  https://uc9733dfd1e4bb56a65caef97b2e.dl.dropboxusercontent.com/cd/0/get/BLJvbhW6Pq_a9iul9McmWXudvX2Q0an8uZugV4hDY2RRbH7oPaprz1HH_KI6MkA7g0aORukR6XfRA00dVcrWtfAUcMTE8roYpJMReGOBTKE9Kddb08QsdMvpNGr0a4v94WOafsyFjN_Eaq4F5Z6Yg6OC/file?dl=1\n",
            "Resolving uc9733dfd1e4bb56a65caef97b2e.dl.dropboxusercontent.com (uc9733dfd1e4bb56a65caef97b2e.dl.dropboxusercontent.com)... 162.125.3.15, 2620:100:601b:15::a27d:80f\n",
            "Connecting to uc9733dfd1e4bb56a65caef97b2e.dl.dropboxusercontent.com (uc9733dfd1e4bb56a65caef97b2e.dl.dropboxusercontent.com)|162.125.3.15|:443... connected.\n",
            "HTTP request sent, awaiting response... 200 OK\n",
            "Length: 7414964 (7.1M) [application/binary]\n",
            "Saving to: ‘data.csv’\n",
            "\n",
            "data.csv            100%[===================>]   7.07M  35.3MB/s    in 0.2s    \n",
            "\n",
            "2021-03-22 10:19:55 (35.3 MB/s) - ‘data.csv’ saved [7414964/7414964]\n",
            "\n"
          ],
          "name": "stdout"
        }
      ]
    },
    {
      "cell_type": "code",
      "metadata": {
        "id": "HYakrlbuH43f"
      },
      "source": [
        "import numpy as np\n",
        "import pandas as pd\n",
        "import matplotlib.pyplot as plt\n",
        "from sklearn.model_selection import train_test_split\n",
        "import pickle\n",
        "from sklearn.metrics import classification_report,confusion_matrix"
      ],
      "execution_count": 2,
      "outputs": []
    },
    {
      "cell_type": "code",
      "metadata": {
        "id": "DZFbVHkRIvE3"
      },
      "source": [
        "data = pd.read_csv('data.csv')"
      ],
      "execution_count": 3,
      "outputs": []
    },
    {
      "cell_type": "code",
      "metadata": {
        "id": "zFRSfL8TOIxU"
      },
      "source": [
        "data = data.loc[:,~data.columns.str.match(\"Unnamed\")]"
      ],
      "execution_count": 4,
      "outputs": []
    },
    {
      "cell_type": "code",
      "metadata": {
        "colab": {
          "base_uri": "https://localhost:8080/",
          "height": 226
        },
        "id": "e836aEvYPG8i",
        "outputId": "51ae62c9-df41-4c9d-bb1e-9a162e45221e"
      },
      "source": [
        "data.head()"
      ],
      "execution_count": 5,
      "outputs": [
        {
          "output_type": "execute_result",
          "data": {
            "text/html": [
              "<div>\n",
              "<style scoped>\n",
              "    .dataframe tbody tr th:only-of-type {\n",
              "        vertical-align: middle;\n",
              "    }\n",
              "\n",
              "    .dataframe tbody tr th {\n",
              "        vertical-align: top;\n",
              "    }\n",
              "\n",
              "    .dataframe thead th {\n",
              "        text-align: right;\n",
              "    }\n",
              "</style>\n",
              "<table border=\"1\" class=\"dataframe\">\n",
              "  <thead>\n",
              "    <tr style=\"text-align: right;\">\n",
              "      <th></th>\n",
              "      <th>SeriousDlqin2yrs</th>\n",
              "      <th>RevolvingUtilizationOfUnsecuredLines</th>\n",
              "      <th>age</th>\n",
              "      <th>NumberOfTime30-59DaysPastDueNotWorse</th>\n",
              "      <th>DebtRatio</th>\n",
              "      <th>MonthlyIncome</th>\n",
              "      <th>NumberOfOpenCreditLinesAndLoans</th>\n",
              "      <th>NumberOfTimes90DaysLate</th>\n",
              "      <th>NumberRealEstateLoansOrLines</th>\n",
              "      <th>NumberOfTime60-89DaysPastDueNotWorse</th>\n",
              "      <th>NumberOfDependents</th>\n",
              "    </tr>\n",
              "  </thead>\n",
              "  <tbody>\n",
              "    <tr>\n",
              "      <th>0</th>\n",
              "      <td>1</td>\n",
              "      <td>0.766127</td>\n",
              "      <td>45</td>\n",
              "      <td>2</td>\n",
              "      <td>0.802982</td>\n",
              "      <td>9120.0</td>\n",
              "      <td>13</td>\n",
              "      <td>0</td>\n",
              "      <td>6</td>\n",
              "      <td>0</td>\n",
              "      <td>2.0</td>\n",
              "    </tr>\n",
              "    <tr>\n",
              "      <th>1</th>\n",
              "      <td>0</td>\n",
              "      <td>0.957151</td>\n",
              "      <td>40</td>\n",
              "      <td>0</td>\n",
              "      <td>0.121876</td>\n",
              "      <td>2600.0</td>\n",
              "      <td>4</td>\n",
              "      <td>0</td>\n",
              "      <td>0</td>\n",
              "      <td>0</td>\n",
              "      <td>1.0</td>\n",
              "    </tr>\n",
              "    <tr>\n",
              "      <th>2</th>\n",
              "      <td>0</td>\n",
              "      <td>0.658180</td>\n",
              "      <td>38</td>\n",
              "      <td>1</td>\n",
              "      <td>0.085113</td>\n",
              "      <td>3042.0</td>\n",
              "      <td>2</td>\n",
              "      <td>1</td>\n",
              "      <td>0</td>\n",
              "      <td>0</td>\n",
              "      <td>0.0</td>\n",
              "    </tr>\n",
              "    <tr>\n",
              "      <th>3</th>\n",
              "      <td>0</td>\n",
              "      <td>0.233810</td>\n",
              "      <td>30</td>\n",
              "      <td>0</td>\n",
              "      <td>0.036050</td>\n",
              "      <td>3300.0</td>\n",
              "      <td>5</td>\n",
              "      <td>0</td>\n",
              "      <td>0</td>\n",
              "      <td>0</td>\n",
              "      <td>0.0</td>\n",
              "    </tr>\n",
              "    <tr>\n",
              "      <th>4</th>\n",
              "      <td>0</td>\n",
              "      <td>0.907239</td>\n",
              "      <td>49</td>\n",
              "      <td>1</td>\n",
              "      <td>0.024926</td>\n",
              "      <td>63588.0</td>\n",
              "      <td>7</td>\n",
              "      <td>0</td>\n",
              "      <td>1</td>\n",
              "      <td>0</td>\n",
              "      <td>0.0</td>\n",
              "    </tr>\n",
              "  </tbody>\n",
              "</table>\n",
              "</div>"
            ],
            "text/plain": [
              "   SeriousDlqin2yrs  ...  NumberOfDependents\n",
              "0                 1  ...                 2.0\n",
              "1                 0  ...                 1.0\n",
              "2                 0  ...                 0.0\n",
              "3                 0  ...                 0.0\n",
              "4                 0  ...                 0.0\n",
              "\n",
              "[5 rows x 11 columns]"
            ]
          },
          "metadata": {
            "tags": []
          },
          "execution_count": 5
        }
      ]
    },
    {
      "cell_type": "code",
      "metadata": {
        "colab": {
          "base_uri": "https://localhost:8080/"
        },
        "id": "il4TPRWeKcNo",
        "outputId": "a1002e16-3f20-4855-a0cf-377174c02599"
      },
      "source": [
        "data.info()"
      ],
      "execution_count": 6,
      "outputs": [
        {
          "output_type": "stream",
          "text": [
            "<class 'pandas.core.frame.DataFrame'>\n",
            "RangeIndex: 150000 entries, 0 to 149999\n",
            "Data columns (total 11 columns):\n",
            " #   Column                                Non-Null Count   Dtype  \n",
            "---  ------                                --------------   -----  \n",
            " 0   SeriousDlqin2yrs                      150000 non-null  int64  \n",
            " 1   RevolvingUtilizationOfUnsecuredLines  150000 non-null  float64\n",
            " 2   age                                   150000 non-null  int64  \n",
            " 3   NumberOfTime30-59DaysPastDueNotWorse  150000 non-null  int64  \n",
            " 4   DebtRatio                             150000 non-null  float64\n",
            " 5   MonthlyIncome                         120269 non-null  float64\n",
            " 6   NumberOfOpenCreditLinesAndLoans       150000 non-null  int64  \n",
            " 7   NumberOfTimes90DaysLate               150000 non-null  int64  \n",
            " 8   NumberRealEstateLoansOrLines          150000 non-null  int64  \n",
            " 9   NumberOfTime60-89DaysPastDueNotWorse  150000 non-null  int64  \n",
            " 10  NumberOfDependents                    146076 non-null  float64\n",
            "dtypes: float64(4), int64(7)\n",
            "memory usage: 12.6 MB\n"
          ],
          "name": "stdout"
        }
      ]
    },
    {
      "cell_type": "code",
      "metadata": {
        "colab": {
          "base_uri": "https://localhost:8080/"
        },
        "id": "FIgozNoftrH3",
        "outputId": "05bb2dee-3364-49cb-9c52-3a9757913441"
      },
      "source": [
        "data.isnull().sum()"
      ],
      "execution_count": 7,
      "outputs": [
        {
          "output_type": "execute_result",
          "data": {
            "text/plain": [
              "SeriousDlqin2yrs                            0\n",
              "RevolvingUtilizationOfUnsecuredLines        0\n",
              "age                                         0\n",
              "NumberOfTime30-59DaysPastDueNotWorse        0\n",
              "DebtRatio                                   0\n",
              "MonthlyIncome                           29731\n",
              "NumberOfOpenCreditLinesAndLoans             0\n",
              "NumberOfTimes90DaysLate                     0\n",
              "NumberRealEstateLoansOrLines                0\n",
              "NumberOfTime60-89DaysPastDueNotWorse        0\n",
              "NumberOfDependents                       3924\n",
              "dtype: int64"
            ]
          },
          "metadata": {
            "tags": []
          },
          "execution_count": 7
        }
      ]
    },
    {
      "cell_type": "markdown",
      "metadata": {
        "id": "mTRABAvTmzx5"
      },
      "source": [
        "So, Nullity in MonthlyIncome and NumberOfDependents must be preprocessed."
      ]
    },
    {
      "cell_type": "code",
      "metadata": {
        "colab": {
          "base_uri": "https://localhost:8080/",
          "height": 806
        },
        "id": "MaLn3pHnmvlv",
        "outputId": "1e968786-31ec-489c-c9c8-2bbf2566afd8"
      },
      "source": [
        "data.iloc[:,1:].plot(kind= 'box' , subplots=True, layout=(4,3), sharex=False, sharey=False,figsize=(15,20))\n",
        "plt.show()"
      ],
      "execution_count": 8,
      "outputs": [
        {
          "output_type": "display_data",
          "data": {
            "image/png": "[encoded data removed]",
            "text/plain": [
              "<Figure size 1080x1440 with 12 Axes>"
            ]
          },
          "metadata": {
            "tags": [],
            "needs_background": "light"
          }
        }
      ]
    },
    {
      "cell_type": "markdown",
      "metadata": {
        "id": "abBTZFKmunhx"
      },
      "source": [
        "some outlier has to be dropped"
      ]
    },
    {
      "cell_type": "markdown",
      "metadata": {
        "id": "ASlo4JhavAks"
      },
      "source": [
        "####Replace Null data with median"
      ]
    },
    {
      "cell_type": "markdown",
      "metadata": {
        "id": "vPfZpBaMvUBR"
      },
      "source": [
        "Preprocessed nullity in MonthlyIncome and NumberOfDependents."
      ]
    },
    {
      "cell_type": "code",
      "metadata": {
        "id": "4haO5K0HvKJ3"
      },
      "source": [
        "data[\"MonthlyIncome\"].fillna(data[\"MonthlyIncome\"].median(), inplace=True)"
      ],
      "execution_count": 9,
      "outputs": []
    },
    {
      "cell_type": "code",
      "metadata": {
        "id": "bmQmY9q1xwJr"
      },
      "source": [
        "data[\"NumberOfDependents\"].fillna(data[\"NumberOfDependents\"].median(), inplace=True)"
      ],
      "execution_count": 10,
      "outputs": []
    },
    {
      "cell_type": "markdown",
      "metadata": {
        "id": "BsJjqIB5YGet"
      },
      "source": [
        "####Drop outlier"
      ]
    },
    {
      "cell_type": "markdown",
      "metadata": {
        "id": "AQOQF8I_yJPU"
      },
      "source": [
        "Drop outlier which is over than 99.99% in RevolvingUtilizationOfUnsecuredLines, DebtRatio, MonthlyIncome,NumberRealEstateLoansOrLines,\n",
        "NumberOfDependents and age \"0\" data"
      ]
    },
    {
      "cell_type": "code",
      "metadata": {
        "id": "7fmYV2B0yv2A"
      },
      "source": [
        "#drop age\n",
        "data_ml = data.copy()\n",
        "data_ml = data_ml.query(\"age!=0\")\n",
        "\n",
        "#drop 99.99 percentile\n",
        "RUUL_99 = data_ml[\"RevolvingUtilizationOfUnsecuredLines\"].quantile(0.9999)\n",
        "D_ratio_99 = data_ml[\"DebtRatio\"].quantile(0.9999)\n",
        "M_income_99 = data_ml[\"MonthlyIncome\"].quantile(0.9999)\n",
        "E_loan_99 = data_ml[\"NumberRealEstateLoansOrLines\"].quantile(0.9999)\n",
        "Dependents_99 = data_ml[\"NumberOfDependents\"].quantile(0.9999)\n",
        "\n",
        "data_ml = data_ml[data_ml[\"RevolvingUtilizationOfUnsecuredLines\"]<RUUL_99]\n",
        "data_ml = data_ml[data_ml[\"DebtRatio\"]<D_ratio_99]\n",
        "data_ml = data_ml[data_ml[\"MonthlyIncome\"]<M_income_99]\n",
        "data_ml = data_ml[data_ml[\"NumberRealEstateLoansOrLines\"]<E_loan_99]\n",
        "data_ml = data_ml[data_ml[\"NumberOfDependents\"]<Dependents_99]"
      ],
      "execution_count": 11,
      "outputs": []
    },
    {
      "cell_type": "code",
      "metadata": {
        "colab": {
          "base_uri": "https://localhost:8080/",
          "height": 813
        },
        "id": "PEE3ZQ500Kez",
        "outputId": "2a60b63a-7ae1-491f-acf1-a96e6288ee84"
      },
      "source": [
        "data_ml.iloc[:,1:].plot(kind= 'box' , subplots=True, layout=(4,3), sharex=False, sharey=False,figsize=(15,20))\n",
        "plt.show()"
      ],
      "execution_count": 12,
      "outputs": [
        {
          "output_type": "display_data",
          "data": {
            "image/png": "[encoded data removed]",
            "text/plain": [
              "<Figure size 1080x1440 with 12 Axes>"
            ]
          },
          "metadata": {
            "tags": [],
            "needs_background": "light"
          }
        }
      ]
    },
    {
      "cell_type": "code",
      "metadata": {
        "id": "IK60snbh1qnY"
      },
      "source": [
        "X = data_ml.iloc[:,2:]\n",
        "y = data_ml[\"SeriousDlqin2yrs\"]\n",
        "X_train, x_test, y_train, y_test = train_test_split(X,y,test_size=0.3,random_state=0, stratify=y)"
      ],
      "execution_count": 13,
      "outputs": []
    },
    {
      "cell_type": "markdown",
      "metadata": {
        "id": "_qQcFFCkYSFo"
      },
      "source": [
        "## Train Data"
      ]
    },
    {
      "cell_type": "markdown",
      "metadata": {
        "id": "Qk1z3kVk2xio"
      },
      "source": [
        "###Gradient Boosting with Grid Search"
      ]
    },
    {
      "cell_type": "code",
      "metadata": {
        "id": "nU1WQony4Qqf"
      },
      "source": [
        "param_grid = { \n",
        "    'n_estimators': [100, 200],\n",
        "    'max_depth' : [5,6,7],\n",
        "}"
      ],
      "execution_count": 14,
      "outputs": []
    },
    {
      "cell_type": "code",
      "metadata": {
        "id": "RZfJeaFgdAtE"
      },
      "source": [
        "from sklearn.ensemble import GradientBoostingClassifier\n",
        "gbc = GradientBoostingClassifier( random_state=4321)"
      ],
      "execution_count": 15,
      "outputs": []
    },
    {
      "cell_type": "code",
      "metadata": {
        "id": "riCyxxyp4XAw"
      },
      "source": [
        "from sklearn.model_selection import GridSearchCV\n",
        "CV_gbc = GridSearchCV(estimator=gbc, param_grid=param_grid, cv= 5)"
      ],
      "execution_count": 16,
      "outputs": []
    },
    {
      "cell_type": "code",
      "metadata": {
        "id": "47UVG8GB4mCb",
        "colab": {
          "base_uri": "https://localhost:8080/"
        },
        "outputId": "3923bac5-a170-432d-c993-bb85ca8dba4a"
      },
      "source": [
        "CV_gbc.fit(X_train, y_train)"
      ],
      "execution_count": 17,
      "outputs": [
        {
          "output_type": "execute_result",
          "data": {
            "text/plain": [
              "GridSearchCV(cv=5, error_score=nan,\n",
              "             estimator=GradientBoostingClassifier(ccp_alpha=0.0,\n",
              "                                                  criterion='friedman_mse',\n",
              "                                                  init=None, learning_rate=0.1,\n",
              "                                                  loss='deviance', max_depth=3,\n",
              "                                                  max_features=None,\n",
              "                                                  max_leaf_nodes=None,\n",
              "                                                  min_impurity_decrease=0.0,\n",
              "                                                  min_impurity_split=None,\n",
              "                                                  min_samples_leaf=1,\n",
              "                                                  min_samples_split=2,\n",
              "                                                  min_weight_fraction_leaf=0.0,\n",
              "                                                  n_estimators=100,\n",
              "                                                  n_iter_no_change=None,\n",
              "                                                  presort='deprecated',\n",
              "                                                  random_state=4321,\n",
              "                                                  subsample=1.0, tol=0.0001,\n",
              "                                                  validation_fraction=0.1,\n",
              "                                                  verbose=0, warm_start=False),\n",
              "             iid='deprecated', n_jobs=None,\n",
              "             param_grid={'max_depth': [5, 6, 7], 'n_estimators': [100, 200]},\n",
              "             pre_dispatch='2*n_jobs', refit=True, return_train_score=False,\n",
              "             scoring=None, verbose=0)"
            ]
          },
          "metadata": {
            "tags": []
          },
          "execution_count": 17
        }
      ]
    },
    {
      "cell_type": "code",
      "metadata": {
        "id": "KmU8xEFi4206",
        "colab": {
          "base_uri": "https://localhost:8080/"
        },
        "outputId": "eccdbbff-4229-41d1-9e67-901d5bd83c43"
      },
      "source": [
        "CV_gbc.best_params_"
      ],
      "execution_count": 18,
      "outputs": [
        {
          "output_type": "execute_result",
          "data": {
            "text/plain": [
              "{'max_depth': 5, 'n_estimators': 100}"
            ]
          },
          "metadata": {
            "tags": []
          },
          "execution_count": 18
        }
      ]
    },
    {
      "cell_type": "code",
      "metadata": {
        "id": "FHWYDRfcUlve",
        "colab": {
          "base_uri": "https://localhost:8080/"
        },
        "outputId": "1ff859fe-d68f-4ef7-ea95-aad8c1da60bf"
      },
      "source": [
        "gbc =CV_gbc.best_estimator_\n",
        "gbc.fit(X_train, y_train)"
      ],
      "execution_count": 19,
      "outputs": [
        {
          "output_type": "execute_result",
          "data": {
            "text/plain": [
              "GradientBoostingClassifier(ccp_alpha=0.0, criterion='friedman_mse', init=None,\n",
              "                           learning_rate=0.1, loss='deviance', max_depth=5,\n",
              "                           max_features=None, max_leaf_nodes=None,\n",
              "                           min_impurity_decrease=0.0, min_impurity_split=None,\n",
              "                           min_samples_leaf=1, min_samples_split=2,\n",
              "                           min_weight_fraction_leaf=0.0, n_estimators=100,\n",
              "                           n_iter_no_change=None, presort='deprecated',\n",
              "                           random_state=4321, subsample=1.0, tol=0.0001,\n",
              "                           validation_fraction=0.1, verbose=0,\n",
              "                           warm_start=False)"
            ]
          },
          "metadata": {
            "tags": []
          },
          "execution_count": 19
        }
      ]
    },
    {
      "cell_type": "code",
      "metadata": {
        "id": "YllQ-Vp3fbcD"
      },
      "source": [
        "filename = 'gbc.sav'\n",
        "pickle.dump(gbc, open(filename, 'wb'))"
      ],
      "execution_count": 20,
      "outputs": []
    },
    {
      "cell_type": "code",
      "metadata": {
        "id": "t_QzbK9ce8iv"
      },
      "source": [
        "gbc_pred = gbc.predict(x_test)"
      ],
      "execution_count": 21,
      "outputs": []
    },
    {
      "cell_type": "code",
      "metadata": {
        "id": "-mlxjEcEfBUr",
        "colab": {
          "base_uri": "https://localhost:8080/"
        },
        "outputId": "30bb95e6-c1b4-4294-b3f2-8079ebf00d82"
      },
      "source": [
        "print(confusion_matrix(y_test,gbc_pred))"
      ],
      "execution_count": 39,
      "outputs": [
        {
          "output_type": "stream",
          "text": [
            "[[41510   455]\n",
            " [ 2433   573]]\n"
          ],
          "name": "stdout"
        }
      ]
    },
    {
      "cell_type": "code",
      "metadata": {
        "id": "9X3CiGuefGzU",
        "colab": {
          "base_uri": "https://localhost:8080/"
        },
        "outputId": "8475e23f-612b-4674-e8ff-18e96bd06799"
      },
      "source": [
        "print(classification_report(y_test,gbc_pred))"
      ],
      "execution_count": 42,
      "outputs": [
        {
          "output_type": "stream",
          "text": [
            "              precision    recall  f1-score   support\n",
            "\n",
            "           0       0.94      0.99      0.97     41965\n",
            "           1       0.56      0.19      0.28      3006\n",
            "\n",
            "    accuracy                           0.94     44971\n",
            "   macro avg       0.75      0.59      0.63     44971\n",
            "weighted avg       0.92      0.94      0.92     44971\n",
            "\n"
          ],
          "name": "stdout"
        }
      ]
    },
    {
      "cell_type": "markdown",
      "metadata": {
        "id": "aTvc7tMe3UIi"
      },
      "source": [
        "### MLPClassifier"
      ]
    },
    {
      "cell_type": "code",
      "metadata": {
        "id": "5T3N15sJ3l2Z",
        "colab": {
          "base_uri": "https://localhost:8080/"
        },
        "outputId": "429313b7-354b-457d-9f73-0018b69c2359"
      },
      "source": [
        "from sklearn.preprocessing import StandardScaler\n",
        "scaler = StandardScaler()\n",
        "scaler.fit(X_train)"
      ],
      "execution_count": 24,
      "outputs": [
        {
          "output_type": "execute_result",
          "data": {
            "text/plain": [
              "StandardScaler(copy=True, with_mean=True, with_std=True)"
            ]
          },
          "metadata": {
            "tags": []
          },
          "execution_count": 24
        }
      ]
    },
    {
      "cell_type": "code",
      "metadata": {
        "id": "29YyNm_ugKzH"
      },
      "source": [
        "X_train_MLP = scaler.transform(X_train)\n",
        "x_test_MLP = scaler.transform(x_test)"
      ],
      "execution_count": 25,
      "outputs": []
    },
    {
      "cell_type": "code",
      "metadata": {
        "id": "JxWVDvXmgStI"
      },
      "source": [
        "from sklearn.neural_network import MLPClassifier\n",
        "mlp = MLPClassifier(activation='relu', alpha=0.0001, batch_size='auto', beta_1=0.9,\n",
        "       beta_2=0.999, early_stopping=True, epsilon=1e-08,\n",
        "       hidden_layer_sizes=22, learning_rate='constant',\n",
        "       learning_rate_init=0.001, max_iter=500, momentum=0.9,\n",
        "       nesterovs_momentum=True, power_t=0.5, random_state=12345,\n",
        "       shuffle=True, solver='adam', tol=0.0001, validation_fraction=0.2,\n",
        "       verbose=False, warm_start=False)"
      ],
      "execution_count": 26,
      "outputs": []
    },
    {
      "cell_type": "code",
      "metadata": {
        "id": "Iqpvw7rzgXHQ",
        "colab": {
          "base_uri": "https://localhost:8080/"
        },
        "outputId": "26794794-f07e-44f3-e233-034472b2f60e"
      },
      "source": [
        "mlp.fit(X_train_MLP, y_train)"
      ],
      "execution_count": 27,
      "outputs": [
        {
          "output_type": "execute_result",
          "data": {
            "text/plain": [
              "MLPClassifier(activation='relu', alpha=0.0001, batch_size='auto', beta_1=0.9,\n",
              "              beta_2=0.999, early_stopping=True, epsilon=1e-08,\n",
              "              hidden_layer_sizes=22, learning_rate='constant',\n",
              "              learning_rate_init=0.001, max_fun=15000, max_iter=500,\n",
              "              momentum=0.9, n_iter_no_change=10, nesterovs_momentum=True,\n",
              "              power_t=0.5, random_state=12345, shuffle=True, solver='adam',\n",
              "              tol=0.0001, validation_fraction=0.2, verbose=False,\n",
              "              warm_start=False)"
            ]
          },
          "metadata": {
            "tags": []
          },
          "execution_count": 27
        }
      ]
    },
    {
      "cell_type": "code",
      "metadata": {
        "id": "sCM8vLVQgejk"
      },
      "source": [
        "filename = 'mlp.sav'\n",
        "pickle.dump(mlp, open(filename, 'wb'))"
      ],
      "execution_count": 28,
      "outputs": []
    },
    {
      "cell_type": "code",
      "metadata": {
        "id": "YHhV9ME6giJj"
      },
      "source": [
        "predictions = mlp.predict(x_test_MLP)"
      ],
      "execution_count": 29,
      "outputs": []
    },
    {
      "cell_type": "code",
      "metadata": {
        "id": "5ewLNaVFgmwZ",
        "colab": {
          "base_uri": "https://localhost:8080/"
        },
        "outputId": "5e61c9fc-59c1-4fa4-8ffb-8769acb6f195"
      },
      "source": [
        "print(confusion_matrix(y_test,predictions))"
      ],
      "execution_count": 30,
      "outputs": [
        {
          "output_type": "stream",
          "text": [
            "[[41539   426]\n",
            " [ 2448   558]]\n"
          ],
          "name": "stdout"
        }
      ]
    },
    {
      "cell_type": "code",
      "metadata": {
        "id": "HidevoY1gp2q",
        "colab": {
          "base_uri": "https://localhost:8080/"
        },
        "outputId": "efb68818-391a-4042-9efb-c88c83312ef0"
      },
      "source": [
        "print(classification_report(y_test,predictions))"
      ],
      "execution_count": 31,
      "outputs": [
        {
          "output_type": "stream",
          "text": [
            "              precision    recall  f1-score   support\n",
            "\n",
            "           0       0.94      0.99      0.97     41965\n",
            "           1       0.57      0.19      0.28      3006\n",
            "\n",
            "    accuracy                           0.94     44971\n",
            "   macro avg       0.76      0.59      0.62     44971\n",
            "weighted avg       0.92      0.94      0.92     44971\n",
            "\n"
          ],
          "name": "stdout"
        }
      ]
    },
    {
      "cell_type": "markdown",
      "metadata": {
        "id": "SLPqzBY13nZT"
      },
      "source": [
        "###k-NN with Grid Search"
      ]
    },
    {
      "cell_type": "code",
      "metadata": {
        "id": "cSLj-guGhN93",
        "colab": {
          "base_uri": "https://localhost:8080/"
        },
        "outputId": "8f199488-650c-4a0a-c30d-bdd310bf73db"
      },
      "source": [
        "from sklearn.neighbors import KNeighborsClassifier\n",
        "grid_search = GridSearchCV(\n",
        "    estimator=KNeighborsClassifier(),\n",
        "    param_grid=dict(\n",
        "        n_neighbors=[1,2,3,4,5,6,7,8,9,10],\n",
        "        weights=['uniform', 'distance'],\n",
        "    ),\n",
        "    scoring='f1_weighted',\n",
        "    cv=5,\n",
        "    n_jobs=-1 # Parallel\n",
        ")\n",
        "grid_search.fit(X_train, y_train)"
      ],
      "execution_count": 32,
      "outputs": [
        {
          "output_type": "execute_result",
          "data": {
            "text/plain": [
              "GridSearchCV(cv=5, error_score=nan,\n",
              "             estimator=KNeighborsClassifier(algorithm='auto', leaf_size=30,\n",
              "                                            metric='minkowski',\n",
              "                                            metric_params=None, n_jobs=None,\n",
              "                                            n_neighbors=5, p=2,\n",
              "                                            weights='uniform'),\n",
              "             iid='deprecated', n_jobs=-1,\n",
              "             param_grid={'n_neighbors': [1, 2, 3, 4, 5, 6, 7, 8, 9, 10],\n",
              "                         'weights': ['uniform', 'distance']},\n",
              "             pre_dispatch='2*n_jobs', refit=True, return_train_score=False,\n",
              "             scoring='f1_weighted', verbose=0)"
            ]
          },
          "metadata": {
            "tags": []
          },
          "execution_count": 32
        }
      ]
    },
    {
      "cell_type": "code",
      "metadata": {
        "id": "Bx2IdOoxXAVv",
        "colab": {
          "base_uri": "https://localhost:8080/"
        },
        "outputId": "6611855a-3c76-471b-e86f-18159a8ee32a"
      },
      "source": [
        "grid_search.best_params_"
      ],
      "execution_count": 33,
      "outputs": [
        {
          "output_type": "execute_result",
          "data": {
            "text/plain": [
              "{'n_neighbors': 5, 'weights': 'uniform'}"
            ]
          },
          "metadata": {
            "tags": []
          },
          "execution_count": 33
        }
      ]
    },
    {
      "cell_type": "code",
      "metadata": {
        "id": "CoqmXzA9XKTH"
      },
      "source": [
        "model = grid_search.best_estimator_"
      ],
      "execution_count": 34,
      "outputs": []
    },
    {
      "cell_type": "code",
      "metadata": {
        "id": "DM96k4csXLvS"
      },
      "source": [
        "y_pred = model.predict(x_test)"
      ],
      "execution_count": 35,
      "outputs": []
    },
    {
      "cell_type": "code",
      "metadata": {
        "id": "RtsQL3G2XUb-",
        "colab": {
          "base_uri": "https://localhost:8080/"
        },
        "outputId": "21c3e45e-23b6-4d4a-b173-19325ef13f27"
      },
      "source": [
        "print(confusion_matrix(y_test,y_pred))"
      ],
      "execution_count": 36,
      "outputs": [
        {
          "output_type": "stream",
          "text": [
            "[[41847   118]\n",
            " [ 2948    58]]\n"
          ],
          "name": "stdout"
        }
      ]
    },
    {
      "cell_type": "code",
      "metadata": {
        "id": "I_hWSuQoXZNP",
        "colab": {
          "base_uri": "https://localhost:8080/"
        },
        "outputId": "42e0199f-abcd-4ed0-b216-884d76346903"
      },
      "source": [
        "print(classification_report(y_test,y_pred))"
      ],
      "execution_count": 37,
      "outputs": [
        {
          "output_type": "stream",
          "text": [
            "              precision    recall  f1-score   support\n",
            "\n",
            "           0       0.93      1.00      0.96     41965\n",
            "           1       0.33      0.02      0.04      3006\n",
            "\n",
            "    accuracy                           0.93     44971\n",
            "   macro avg       0.63      0.51      0.50     44971\n",
            "weighted avg       0.89      0.93      0.90     44971\n",
            "\n"
          ],
          "name": "stdout"
        }
      ]
    }
  ]
}